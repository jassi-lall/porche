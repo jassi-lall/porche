{
 "cells": [
  {
   "cell_type": "code",
   "execution_count": 1,
   "metadata": {},
   "outputs": [],
   "source": [
    "from porche import *"
   ]
  },
  {
   "cell_type": "markdown",
   "metadata": {},
   "source": [
    "# Steps to scraping a website:\n",
    "0) investigate url\n",
    "\n",
    "    url's can have good information including parameters of the form `?param1=x&param2=y` . For example `?condition=classic&page=5`\n",
    "1) See if the website is calling an API\n",
    "\n",
    "    You've struck gold if you are able to directly call an API that is giving the information in a neat JSON format.\n",
    "\n",
    "    F12 / developer mode in a browser --> Network --> Search for fetch/XHR for API calls. View the responses.\n",
    "2) See if you can scrape the data without running javascript\n",
    "3) If not, render the page using requests-html and see if you can extract data from the result (using bs4 BeautifulSoup)\n",
    "\n",
    "To see the underlying structure of a JSON use `jsonhero.io`\n",
    "\n",
    "## More tips\n"
   ]
  }
 ],
 "metadata": {
  "kernelspec": {
   "display_name": "Python 3",
   "language": "python",
   "name": "python3"
  },
  "language_info": {
   "codemirror_mode": {
    "name": "ipython",
    "version": 3
   },
   "file_extension": ".py",
   "mimetype": "text/x-python",
   "name": "python",
   "nbconvert_exporter": "python",
   "pygments_lexer": "ipython3",
   "version": "3.11.3"
  },
  "orig_nbformat": 4
 },
 "nbformat": 4,
 "nbformat_minor": 2
}
